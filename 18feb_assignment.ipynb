{
 "cells": [
  {
   "attachments": {},
   "cell_type": "markdown",
   "metadata": {},
   "source": [
    "# QUESTION 1\n",
    "\n",
    "Q1. What is an API? Give an example, where an API is used in real life."
   ]
  },
  {
   "attachments": {},
   "cell_type": "markdown",
   "metadata": {},
   "source": [
    "# Answer \n",
    "An API, or Application Programming Interface, is a set of protocols, tools, and standards that enable different software applications to communicate with each other. APIs provide a standardized way for applications to exchange data and functionality without requiring developers to share all of their code.\n",
    "\n",
    "An example of where an API is used in real life is in social media platforms such as Twitter and Facebook. These platforms provide APIs that allow third-party developers to access certain data and functionality within their platform, such as retrieving tweets or posting updates. This allows developers to create applications that can interact with social media platforms without having to build everything from scratch.\n",
    "\n",
    "Another example is in e-commerce websites such as Amazon. Amazon provides APIs that allow third-party developers to access its product catalog, customer reviews, and other data, which can be used to build applications that interact with Amazon's platform. This enables developers to create new tools and services that integrate with Amazon's e-commerce platform."
   ]
  },
  {
   "attachments": {},
   "cell_type": "markdown",
   "metadata": {},
   "source": [
    "# Question 2"
   ]
  },
  {
   "attachments": {},
   "cell_type": "markdown",
   "metadata": {},
   "source": [
    "Q2. Give advantages and disadvantages of using API."
   ]
  },
  {
   "attachments": {},
   "cell_type": "markdown",
   "metadata": {},
   "source": [
    "# Answer\n",
    "\n",
    "Advantages of using APIs:\n",
    "\n",
    "1. Standardization: APIs provide a standardized way for applications to communicate with each other, which simplifies integration and reduces the risk of errors.\n",
    "2. Reusability: APIs can be reused across multiple applications, which reduces development time and costs.\n",
    "3. Scalability: APIs can be scaled to handle large volumes of traffic, which makes them suitable for building high-performance applications.\n",
    "4. Security: APIs can be secured using authentication and authorization mechanisms, which helps protect sensitive data from unauthorized access.\n",
    "5. Innovation: APIs enable developers to create new applications and services that integrate with existing systems, which fosters innovation and drives business growth."
   ]
  },
  {
   "attachments": {},
   "cell_type": "markdown",
   "metadata": {},
   "source": [
    "Disadvantages of using APIs:\n",
    "\n",
    "1. Complexity: APIs can be complex to design and implement, which may require specialized expertise.\n",
    "2. Maintenance: APIs require ongoing maintenance to ensure compatibility with changing technologies and business requirements.\n",
    "3. Security risks: APIs can introduce security risks, such as data breaches, if not properly secured and managed.\n",
    "4. Dependency: APIs can create a dependency on third-party services, which may limit flexibility and increase costs.\n",
    "5. Overhead: APIs can add overhead to the development process, including additional testing, documentation, and support."
   ]
  },
  {
   "attachments": {},
   "cell_type": "markdown",
   "metadata": {},
   "source": [
    "# Question 3\n",
    "Q3. What is a Web API? Differentiate between API and Web API."
   ]
  },
  {
   "attachments": {},
   "cell_type": "markdown",
   "metadata": {},
   "source": [
    "A Web API, or Web Application Programming Interface, is an API that is specifically designed to be accessed over the internet using HTTP. Web APIs are typically used to enable communication between a client-side application (such as a web or mobile app) and a server-side application or service.\n",
    "The main difference between an API and a Web API is that a Web API is accessed over the internet using HTTP, while an API can be accessed through a variety of protocols, including HTTP, TCP/IP, and others. Web APIs are typically designed to be RESTful, meaning that they follow a set of architectural principles that allow for simple, lightweight communication over the internet.\n",
    "Another key difference between APIs and Web APIs is the way they are used. APIs are often used to enable communication between applications running on the same machine or within the same network, while Web APIs are designed to enable communication between applications running on different machines over the internet."
   ]
  },
  {
   "attachments": {},
   "cell_type": "markdown",
   "metadata": {},
   "source": [
    "# Question 4\n",
    "Q4. Explain REST and SOAP Architecture. Mention shortcomings of SOAP."
   ]
  },
  {
   "attachments": {},
   "cell_type": "markdown",
   "metadata": {},
   "source": [
    "REST (Representational State Transfer) and SOAP (Simple Object Access Protocol) are two common architectural styles used for building Web APIs.\n",
    "\n",
    "REST Architecture:\n",
    "REST is a popular architectural style for building Web APIs. REST is based on the principles of HTTP, and it uses HTTP verbs (such as GET, POST, PUT, and DELETE) to perform operations on resources. REST APIs typically use URLs to identify resources and return data in a standardized format, such as JSON or XML.\n",
    "\n",
    "SOAP Architecture:\n",
    "SOAP is an older architectural style for building Web APIs that uses XML-based messages to exchange data between applications. SOAP APIs typically use a standardized format for messages, called a WSDL (Web Services Description Language), to describe the available operations and parameters of the API.\n",
    "\n",
    "Shortcomings of SOAP:\n",
    "\n",
    "Complexity: SOAP is a more complex architecture compared to REST, which can make it more difficult to implement and maintain.\n",
    "Performance: SOAP messages are typically larger than REST messages due to the XML format, which can lead to slower performance and higher bandwidth usage.\n",
    "Scalability: SOAP is typically less scalable than REST due to its reliance on XML and its more complex message format.\n",
    "Compatibility: SOAP may not be compatible with all programming languages and platforms, which can limit its use in certain situations.\n",
    "Security: SOAP messages may require more complex security measures than REST due to the XML format, which can increase the complexity and cost of implementing security features."
   ]
  },
  {
   "attachments": {},
   "cell_type": "markdown",
   "metadata": {},
   "source": [
    "# QUESTION 5\n",
    "Q5. Differentiate between REST and SOAP."
   ]
  },
  {
   "attachments": {},
   "cell_type": "markdown",
   "metadata": {},
   "source": [
    "# Answer\n",
    "\n",
    "There is no direct comparison between SOAP and REST APIs. But there are some points to be listed below which makes you choose better between these two web services. Here are:\n",
    "\n",
    "SOAP stands for Simple Object Access Protocol and REST stands for Representational State Transfer.\n",
    "\n",
    "Since SOAP is a protocol, it follows a strict standard to allow communication between the client and the server whereas REST is an architectural style that doesn’t follow any strict standard but follows six constraints defined by Roy Fielding in 2000. Those constraints are – Uniform Interface, Client-Server, Stateless, Cacheable, Layered System, Code on Demand.\n",
    "\n",
    "SOAP uses only XML for exchanging information in its message format whereas REST is not restricted to XML and its the choice of implementer which Media-Type to use like XML, JSON, Plain-text. Moreover, REST can use SOAP protocol but SOAP cannot use REST.\n",
    "\n",
    "On behalf of services interfaces to business logic, SOAP uses @WebService whereas REST instead of using interfaces uses URI like @Path.\n",
    "SOAP is difficult to implement and it requires more bandwidth whereas REST is easy to implement and requires less bandwidth such as smartphones.\n",
    "\n",
    "Benefits of SOAP over REST as SOAP has ACID compliance transaction. Some of the applications require transaction ability which is accepted by SOAP whereas REST lacks in it.\n",
    "\n",
    "On the basis of Security, SOAP has SSL( Secure Socket Layer) and WS-security whereas REST has SSL and HTTPS. In the case of Bank Account Password, Card Number, etc. SOAP is preferred over REST. The security issue is all about your application requirement, you have to build security on your own. It’s about what type of protocol you use.\n",
    "SOAP cannot make use of REST since SOAP is a protocol without any architectural pattern. REST can make use of SOAP because it is an architectural pattern having protocol."
   ]
  },
  {
   "cell_type": "markdown",
   "metadata": {},
   "source": []
  }
 ],
 "metadata": {
  "language_info": {
   "name": "python"
  },
  "orig_nbformat": 4
 },
 "nbformat": 4,
 "nbformat_minor": 2
}
